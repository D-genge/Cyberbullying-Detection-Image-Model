{
  "nbformat": 4,
  "nbformat_minor": 0,
  "metadata": {
    "colab": {
      "provenance": [],
      "collapsed_sections": [],
      "machine_shape": "hm"
    },
    "kernelspec": {
      "name": "python3",
      "display_name": "Python 3"
    },
    "language_info": {
      "name": "python"
    },
    "gpuClass": "standard",
    "accelerator": "GPU"
  },
  "cells": [
    {
      "cell_type": "code",
      "source": [
        "# !pip install -q sklearn\n",
        "# !pip install tensorflow tensorflow-gpu opencv-python matplotlib\n",
        "# !pip list\n",
        "# !pip install tensorflow-gpu\n",
        "# !pip install -U pip keras tensorflow"
      ],
      "metadata": {
        "id": "OsdqCadJQWMa"
      },
      "execution_count": null,
      "outputs": []
    },
    {
      "cell_type": "code",
      "execution_count": null,
      "metadata": {
        "id": "mSdztFaxVi-x"
      },
      "outputs": [],
      "source": [
        "# %tensorflow_version 2.x\n",
        "import cv2\n",
        "import glob\n",
        "import os\n",
        "import shutil\n",
        "import pandas as pd\n",
        "import numpy as np\n",
        "import matplotlib.pyplot as plt\n",
        "import matplotlib.image as mpimg"
      ]
    },
    {
      "cell_type": "code",
      "source": [
        "import tensorflow as tf\n",
        "\n",
        "from tensorflow import keras\n",
        "from tensorflow.keras.models import Sequential\n",
        "from tensorflow.keras.layers import Conv2D, MaxPooling2D, Dense, Flatten, Dropout\n",
        "from tensorflow.keras.preprocessing.image import ImageDataGenerator"
      ],
      "metadata": {
        "id": "ySXY1NGLQgf-"
      },
      "execution_count": null,
      "outputs": []
    },
    {
      "cell_type": "code",
      "source": [
        "rm -rf `find -type d -name .ipynb_checkpoints`"
      ],
      "metadata": {
        "id": "7P0cda1gTgY6"
      },
      "execution_count": null,
      "outputs": []
    },
    {
      "cell_type": "code",
      "source": [
        "gpu_info = !nvidia-smi\n",
        "gpu_info = '\\n'.join(gpu_info)\n",
        "if gpu_info.find('failed') >= 0:\n",
        "  print('Not connected to a GPU')\n",
        "else:\n",
        "  print(gpu_info)"
      ],
      "metadata": {
        "id": "IOxZ_BJPljeo"
      },
      "execution_count": null,
      "outputs": []
    },
    {
      "cell_type": "code",
      "source": [
        "annotation = pd.read_csv(\"/content/drive/MyDrive/annotation.csv\")\n",
        "annotation"
      ],
      "metadata": {
        "id": "Cx8iCNCLuCAT"
      },
      "execution_count": null,
      "outputs": []
    },
    {
      "cell_type": "code",
      "source": [
        "SIZE = 224\n",
        "\n",
        "images = []\n",
        "labels = []\n",
        "dir_path = \"/content/data\"\n",
        "num_imgs = len([entry for entry in os.listdir(dir_path) if os.path.isfile(os.path.join(dir_path, entry))])\n",
        "iteration_count = 1\n",
        "for directory_path in glob.glob(\"/content/data/\"):\n",
        "  label = directory_path.split(\"\\\\\")[-1]\n",
        "\n",
        "  for img_path in glob.glob(os.path.join(directory_path, \"*.jpg\")):\n",
        "\n",
        "    img = cv2.imread(img_path, cv2.IMREAD_COLOR)\n",
        "    images.append(img)\n",
        "\n",
        "    labelType = annotation.loc[annotation['Image_ID'] == img_path.split(\"/content/data/\")[1]]['Type']\n",
        "    # print(\"Striped: \", img_path.split(\"/content/data/\")[1])\n",
        "    img_name = img_path.split(\"/content/data/\")[1]\n",
        "    if (iteration_count < num_imgs*0.7):\n",
        "      if (labelType.values == 'cyberbullying'):\n",
        "\n",
        "        shutil.move(img_path, f\"/content/drive/MyDrive/train/cyberbullying/{img_name}\")\n",
        "      else:\n",
        "        shutil.move(img_path, f\"/content/drive/MyDrive/train/noncyberbullying{img_name}\")\n",
        "    elif (iteration_count >= num_imgs*0.7 and iteration_count < num_imgs*0.85):\n",
        "      if (labelType.values == 'cyberbullying'):\n",
        "\n",
        "        shutil.move(img_path, f\"/content/drive/MyDrive/validation/cyberbullying/{img_name}\")\n",
        "      else:\n",
        "        shutil.move(img_path, f\"/content/drive/MyDrive/validation/noncyberbullying{img_name}\")\n",
        "    else:\n",
        "      if (labelType.values == 'cyberbullying'):\n",
        "\n",
        "        shutil.move(img_path, f\"/content/drive/MyDrive/test/cyberbullying/{img_name}\")\n",
        "      else:\n",
        "        shutil.move(img_path, f\"/content/drive/MyDrive/test/noncyberbullying/{img_name}\")\n",
        "    iteration_count += 1\n"
      ],
      "metadata": {
        "id": "Wci42wd3BXAK"
      },
      "execution_count": null,
      "outputs": []
    },
    {
      "cell_type": "markdown",
      "source": [
        "**Loading Data & Scale Data**"
      ],
      "metadata": {
        "id": "XY-a5XkLSrfQ"
      }
    },
    {
      "cell_type": "markdown",
      "source": [],
      "metadata": {
        "id": "JolLxn-zchxS"
      }
    },
    {
      "cell_type": "code",
      "source": [
        "\n",
        "train = ImageDataGenerator(rescale = 1/255)\n",
        "validation = ImageDataGenerator(rescale = 1/255)\n",
        "train_dataset = train.flow_from_directory('/content/drive/MyDrive/train/', \n",
        "                                          target_size = (SIZE,SIZE), \n",
        "                                          batch_size = 3, \n",
        "                                          class_mode = 'binary')\n",
        "validation_dataset = validation.flow_from_directory('/content/drive/MyDrive/validation/', \n",
        "                                                    target_size = (SIZE,SIZE), \n",
        "                                                    batch_size = 3, \n",
        "                                                    class_mode = 'binary')\n"
      ],
      "metadata": {
        "id": "GI6HHQTwb2Ik",
        "colab": {
          "base_uri": "https://localhost:8080/"
        },
        "outputId": "33be90ce-f608-4147-8bdd-16d88740d598"
      },
      "execution_count": null,
      "outputs": [
        {
          "output_type": "stream",
          "name": "stdout",
          "text": [
            "Found 205 images belonging to 2 classes.\n",
            "Found 49 images belonging to 2 classes.\n"
          ]
        }
      ]
    },
    {
      "cell_type": "markdown",
      "source": [
        "**Model Construction**"
      ],
      "metadata": {
        "id": "UjXqZ-6zeEJk"
      }
    },
    {
      "cell_type": "code",
      "source": [
        "model = Sequential()\n",
        "model.add(Conv2D(16, (3,3), 1, activation='relu', input_shape=(SIZE,SIZE,3)))\n",
        "model.add(MaxPooling2D(2,2))\n",
        "model.add(Conv2D(32, (3,3), 1, activation='relu'))\n",
        "model.add(MaxPooling2D(2,2))\n",
        "model.add(Conv2D(16, (3,3), 1, activation='relu'))\n",
        "model.add(MaxPooling2D())\n",
        "model.add(Flatten())\n",
        "model.add(Dense(512, activation='relu'))\n",
        "model.add(Dense(1, activation='sigmoid'))"
      ],
      "metadata": {
        "id": "bDXa2Jl1f1-Z"
      },
      "execution_count": null,
      "outputs": []
    },
    {
      "cell_type": "code",
      "source": [
        "model.compile(loss='binary_crossentropy', optimizer = 'adam', metrics = ['accuracy'])"
      ],
      "metadata": {
        "id": "n992YngOgyjF"
      },
      "execution_count": null,
      "outputs": []
    },
    {
      "cell_type": "code",
      "source": [
        "model.summary()"
      ],
      "metadata": {
        "id": "H9XMQ8Ma8tr1"
      },
      "execution_count": null,
      "outputs": []
    },
    {
      "cell_type": "code",
      "source": [
        "logdir = 'Logs'\n",
        "\n",
        "tensorboard_callback = tf.keras.callbacks.TensorBoard(log_dir = logdir)"
      ],
      "metadata": {
        "id": "acii1cnL8xiV"
      },
      "execution_count": null,
      "outputs": []
    },
    {
      "cell_type": "code",
      "source": [
        "\n",
        "model_fit = model.fit(train_dataset, epochs = 12, callbacks = [tensorboard_callback])\n"
      ],
      "metadata": {
        "id": "gvgQ2Llf92Rm"
      },
      "execution_count": null,
      "outputs": []
    },
    {
      "cell_type": "code",
      "source": [
        "# from tensorflow.keras.metrics import Precision, Recall, BinaryAccuracy\n",
        "# pre = Precision()\n",
        "# re = Recall()\n",
        "# acc = BinaryAccuracy()\n",
        "# print(len(test))\n",
        "# for batchS in test.as_numpy_iterator(): \n",
        "#     X, y = batchS\n",
        "#     yhat = model.predict(X)\n",
        "#     pre.update_state(y, yhat)\n",
        "#     re.update_state(y, yhat)\n",
        "#     acc.update_state(y, yhat)\n",
        "\n",
        "# print(pre.result(), re.result(), acc.result())\n",
        "# model.evaluate(test)"
      ],
      "metadata": {
        "id": "-p9pu-byw0Nu"
      },
      "execution_count": null,
      "outputs": []
    },
    {
      "cell_type": "code",
      "source": [
        "fig = plt.figure()\n",
        "plt.plot(model_fit.history['accuracy'], color='teal', label='accuracy')\n",
        "plt.plot(model_fit.history['val_accuracy'], color='orange', label='val_accuracy')\n",
        "fig.suptitle('Accuracy', fontsize=20)\n",
        "plt.legend(loc=\"upper left\")\n",
        "plt.show()"
      ],
      "metadata": {
        "id": "SNDtl4wOihjD"
      },
      "execution_count": null,
      "outputs": []
    },
    {
      "cell_type": "code",
      "source": [
        "fig = plt.figure()\n",
        "plt.plot(model_fit.history['loss'], color='teal', label='loss')\n",
        "plt.plot(model_fit.history['val_loss'], color='orange', label='val_loss')\n",
        "fig.suptitle('Loss', fontsize=20)\n",
        "plt.legend(loc=\"upper left\")\n",
        "plt.show()"
      ],
      "metadata": {
        "id": "4J9bDlsPilgI"
      },
      "execution_count": null,
      "outputs": []
    }
  ]
}